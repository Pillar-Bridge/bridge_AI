{
 "cells": [
  {
   "cell_type": "code",
   "execution_count": 4,
   "metadata": {},
   "outputs": [
    {
     "ename": "AttributeError",
     "evalue": "'Komoran' object has no attribute 'synonyms'",
     "output_type": "error",
     "traceback": [
      "\u001b[0;31m---------------------------------------------------------------------------\u001b[0m",
      "\u001b[0;31mAttributeError\u001b[0m                            Traceback (most recent call last)",
      "\u001b[0;32m/tmp/ipykernel_1796930/3113108314.py\u001b[0m in \u001b[0;36m<module>\u001b[0;34m\u001b[0m\n\u001b[1;32m     17\u001b[0m \u001b[0;32mfor\u001b[0m \u001b[0mnoun\u001b[0m \u001b[0;32min\u001b[0m \u001b[0mnouns\u001b[0m\u001b[0;34m:\u001b[0m\u001b[0;34m\u001b[0m\u001b[0;34m\u001b[0m\u001b[0m\n\u001b[1;32m     18\u001b[0m     \u001b[0;31m# 명사의 유의어 추출\u001b[0m\u001b[0;34m\u001b[0m\u001b[0;34m\u001b[0m\u001b[0m\n\u001b[0;32m---> 19\u001b[0;31m     \u001b[0msynonym_list\u001b[0m \u001b[0;34m=\u001b[0m \u001b[0mkomoran\u001b[0m\u001b[0;34m.\u001b[0m\u001b[0msynonyms\u001b[0m\u001b[0;34m(\u001b[0m\u001b[0mnoun\u001b[0m\u001b[0;34m)\u001b[0m\u001b[0;34m\u001b[0m\u001b[0;34m\u001b[0m\u001b[0m\n\u001b[0m\u001b[1;32m     20\u001b[0m     \u001b[0;32mif\u001b[0m \u001b[0msynonym_list\u001b[0m\u001b[0;34m:\u001b[0m\u001b[0;34m\u001b[0m\u001b[0;34m\u001b[0m\u001b[0m\n\u001b[1;32m     21\u001b[0m         \u001b[0;31m# 유의어가 존재하면 딕셔너리에 추가\u001b[0m\u001b[0;34m\u001b[0m\u001b[0;34m\u001b[0m\u001b[0m\n",
      "\u001b[0;31mAttributeError\u001b[0m: 'Komoran' object has no attribute 'synonyms'"
     ]
    }
   ],
   "source": [
    "from konlpy.tag import Komoran\n",
    "from collections import defaultdict\n",
    "\n",
    "# KoNLPy의 형태소 분석기인 Komoran을 사용합니다.\n",
    "komoran = Komoran()\n",
    "\n",
    "# 명사들과 그에 해당하는 유의어들을 담을 딕셔너리를 생성합니다.\n",
    "synonyms = defaultdict(list)\n",
    "\n",
    "# 입력 문장\n",
    "sentence = \"팝콘 대형 하나와 음료수 중형 하나 주세요.\"\n",
    "\n",
    "# 문장을 형태소 단위로 분석하고 명사들을 추출합니다.\n",
    "nouns = komoran.nouns(sentence)\n",
    "\n",
    "# 추출된 명사들에 대해 유의어를 찾아서 딕셔너리에 저장합니다.\n",
    "for noun in nouns:\n",
    "    # 명사의 유의어 추출\n",
    "    synonym_list = komoran.synonyms(noun)\n",
    "    if synonym_list:\n",
    "        # 유의어가 존재하면 딕셔너리에 추가\n",
    "        synonyms[noun].extend(synonym_list)\n",
    "\n",
    "# 결과 출력\n",
    "for noun, synonym_list in synonyms.items():\n",
    "    print(f\"{noun}: {synonym_list}\")\n"
   ]
  },
  {
   "cell_type": "code",
   "execution_count": 5,
   "metadata": {},
   "outputs": [
    {
     "name": "stdout",
     "output_type": "stream",
     "text": [
      "{\n",
      "  \"situation\": \"Inquiry\",\n",
      "  \"response\": [\n",
      "    {\n",
      "      \"response\": \"Yes, I need to open an account.\",\n",
      "      \"nouns\": {\n",
      "        \"account\": [\"savings account\", \"checking account\", \"money market account\"]\n",
      "      }\n",
      "    },\n",
      "    {\n",
      "      \"response\": \"No, I'm just here to make a deposit.\",\n",
      "      \"nouns\": {\n",
      "        \"deposit\": [\"cash\", \"check\", \"money order\"]\n",
      "      }\n",
      "    },\n",
      "    {\n",
      "      \"response\": \"I'm not sure yet. Can I get some information first?\",\n",
      "      \"nouns\": {}\n",
      "    },\n",
      "    {\n",
      "      \"response\": \"I'd like to speak to a loan officer.\",\n",
      "      \"nouns\": {\n",
      "        \"loan officer\": [\"banker\", \"financial advisor\"]\n",
      "      }\n",
      "    },\n",
      "    {\n",
      "      \"response\": \"I'm having trouble with my online banking.\",\n",
      "      \"nouns\": {\n",
      "        \"online banking\": [\"website\", \"app\", \"account\"]\n",
      "      }\n",
      "    }\n",
      "  ]\n",
      "}\n",
      "```json\n",
      "{\n",
      "  \"situation\": \"Inquiry\",\n",
      "  \"response\": [\n",
      "    {\n",
      "      \"response\": \"Yes, I need to open an account.\",\n",
      "      \"nouns\": {\n",
      "        \"account\": [\"loan\", \"mortgage\", \"credit card\"]\n",
      "      }\n",
      "    },\n",
      "    {\n",
      "      \"response\": \"No, I'm just browsing.\",\n",
      "      \"nouns\": {}\n",
      "    },\n",
      "    {\n",
      "      \"response\": \"Can you tell me about your interest rates?\",\n",
      "      \"nouns\": {}\n",
      "    },\n",
      "    {\n",
      "      \"response\": \"I'm not sure yet. Can I have some time to think about it?\",\n",
      "      \"nouns\": {}\n",
      "    },\n",
      "    {\n",
      "      \"response\": \"I'll take a look at your website and get back to you.\",\n",
      "      \"nouns\": {}\n",
      "    }\n",
      "  ]\n",
      "}\n",
      "```\n"
     ]
    }
   ],
   "source": [
    "from run import get_recommendation\n",
    "\n",
    "rec = get_recommendation()\n",
    "\n",
    "rec.run()"
   ]
  }
 ],
 "metadata": {
  "kernelspec": {
   "display_name": "DH_2",
   "language": "python",
   "name": "dh"
  },
  "language_info": {
   "codemirror_mode": {
    "name": "ipython",
    "version": 3
   },
   "file_extension": ".py",
   "mimetype": "text/x-python",
   "name": "python",
   "nbconvert_exporter": "python",
   "pygments_lexer": "ipython3",
   "version": "3.9.13"
  }
 },
 "nbformat": 4,
 "nbformat_minor": 2
}
